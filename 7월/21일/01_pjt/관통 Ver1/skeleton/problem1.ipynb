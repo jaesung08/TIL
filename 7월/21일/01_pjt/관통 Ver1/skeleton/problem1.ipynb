{
 "cells": [
  {
   "cell_type": "code",
   "execution_count": 51,
   "id": "48c3af78",
   "metadata": {},
   "outputs": [],
   "source": [
    "# 필요 패키지 import\n",
    "import pprint\n",
    "import requests"
   ]
  },
  {
   "cell_type": "markdown",
   "id": "d5723667",
   "metadata": {},
   "source": [
    "# 문제1. 전체 정기예금의 응답을 json 형태로 변환하여 key 값만 출력하시오.\n",
    "- 공식문서의 요청변수와 예제 요청결과(JSON) 부분을 참고합니다.\n",
    "- [힌트] 아래와 같은 순서로 데이터를 출력하며 진행합니다.\n",
    "- 1. 응답을 json 형식으로 변환합니다.\n",
    "- 2. key 값이 \"result\" 인 데이터에 모든 정보가 담겨 있습니다.\n",
    "- 3. key 값이 \"result\" 인 데이터의 key 값만 출력합니다."
   ]
  },
  {
   "cell_type": "code",
   "execution_count": 2,
   "id": "dcdb1972",
   "metadata": {},
   "outputs": [],
   "source": [
    "def get_deposit_products():\n",
    "    # 본인의 API KEY 로 수정합니다.\n",
    "    api_key = \"d8ac7b184792adf08a6f6bb6bd619d37\"\n",
    "    url = f'http://finlife.fss.or.kr/finlifeapi/depositProductsSearch.json?auth={api_key}&topFinGrpNo=020000&pageNo=1'\n",
    "    \n",
    "    # 요구사항에 맞도록 이곳의 코드를 수정합니다.\n",
    "    # params = {\n",
    "    #     'auth':api_key,\n",
    "    #     #금융회사 코드 020000(은행), 030200(여신전문), 030300(저축은행), 050000(보험), 060000(금융투자)\n",
    "    #     'topFinGrpNo' : '020000',\n",
    "    #     'pageNo' : 1\n",
    "    # }\n",
    "    result = requests.get(url).json().get('result').keys()\n",
    "    return result\n"
   ]
  },
  {
   "cell_type": "code",
   "execution_count": 1,
   "id": "9a3c23f1",
   "metadata": {},
   "outputs": [
    {
     "ename": "NameError",
     "evalue": "name 'get_deposit_products' is not defined",
     "output_type": "error",
     "traceback": [
      "\u001b[1;31m---------------------------------------------------------------------------\u001b[0m",
      "\u001b[1;31mNameError\u001b[0m                                 Traceback (most recent call last)",
      "Cell \u001b[1;32mIn[1], line 4\u001b[0m\n\u001b[0;32m      1\u001b[0m \u001b[39m# 아래 코드는 수정하지 않습니다.\u001b[39;00m\n\u001b[0;32m      2\u001b[0m \u001b[39mif\u001b[39;00m \u001b[39m__name__\u001b[39m \u001b[39m==\u001b[39m \u001b[39m'\u001b[39m\u001b[39m__main__\u001b[39m\u001b[39m'\u001b[39m:\n\u001b[0;32m      3\u001b[0m     \u001b[39m# json 형태의 데이터 반환\u001b[39;00m\n\u001b[1;32m----> 4\u001b[0m     result \u001b[39m=\u001b[39m get_deposit_products()\n\u001b[0;32m      5\u001b[0m     \u001b[39m# prrint.prrint(): json 을 보기 좋은 형식으로 출력\u001b[39;00m\n\u001b[0;32m      6\u001b[0m     pprint\u001b[39m.\u001b[39mpprint(result)\n",
      "\u001b[1;31mNameError\u001b[0m: name 'get_deposit_products' is not defined"
     ]
    }
   ],
   "source": [
    "# 아래 코드는 수정하지 않습니다.\n",
    "if __name__ == '__main__':\n",
    "    # json 형태의 데이터 반환\n",
    "    result = get_deposit_products()\n",
    "    # prrint.prrint(): json 을 보기 좋은 형식으로 출력\n",
    "    pprint.pprint(result)"
   ]
  }
 ],
 "metadata": {
  "kernelspec": {
   "display_name": "Python 3 (ipykernel)",
   "language": "python",
   "name": "python3"
  },
  "language_info": {
   "codemirror_mode": {
    "name": "ipython",
    "version": 3
   },
   "file_extension": ".py",
   "mimetype": "text/x-python",
   "name": "python",
   "nbconvert_exporter": "python",
   "pygments_lexer": "ipython3",
   "version": "3.9.13"
  }
 },
 "nbformat": 4,
 "nbformat_minor": 5
}
