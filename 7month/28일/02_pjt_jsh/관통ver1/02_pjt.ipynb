{
 "cells": [
  {
   "cell_type": "markdown",
   "metadata": {},
   "source": [
    "# 넷플릭스 주가 데이터 분석"
   ]
  },
  {
   "cell_type": "markdown",
   "metadata": {},
   "source": [
    "### 공통 요구사항\n",
    "* 캐글을 활용하여 데이터를 다운로드 받아 활용합니다\n",
    "  * 데이터셋 : [“Netfilx Stock Price Prediction(넷플릭스 주식 가격 데이터)”](https://www.kaggle.com/datasets/jainilcoder/netflix-stock-price-prediction)\n",
    "  * 데이터셋 요약 : 2018-02-05 ~ 2022-02-04 까지의 일별 데이터\n",
    "\n",
    "+ 요구사항 이외에는 자유롭게 작성해도 무관합니다."
   ]
  },
  {
   "cell_type": "markdown",
   "metadata": {},
   "source": [
    "## A. 데이터 전처리 -데이터 읽어오기"
   ]
  },
  {
   "cell_type": "markdown",
   "metadata": {},
   "source": [
    "- Pandas를 사용하여 csv파일(NLFX.csv)을 DataFrame으로 읽어옵니다.\n",
    "* 이 때, ['Date', 'Open', 'High', 'Low', 'Close'] 필드만 읽어오도록 구성합니다"
   ]
  },
  {
   "cell_type": "code",
   "execution_count": 17,
   "metadata": {},
   "outputs": [],
   "source": [
    "# !pip install numpy\n",
    "# !pip install pandas\n",
    "# !pip install matplotlib"
   ]
  },
  {
   "cell_type": "code",
   "execution_count": 18,
   "metadata": {},
   "outputs": [],
   "source": [
    "import numpy as np\n",
    "import pandas as pd\n",
    "import matplotlib.pyplot as plt"
   ]
  },
  {
   "cell_type": "code",
   "execution_count": 19,
   "metadata": {},
   "outputs": [
    {
     "data": {
      "text/html": [
       "<div>\n",
       "<style scoped>\n",
       "    .dataframe tbody tr th:only-of-type {\n",
       "        vertical-align: middle;\n",
       "    }\n",
       "\n",
       "    .dataframe tbody tr th {\n",
       "        vertical-align: top;\n",
       "    }\n",
       "\n",
       "    .dataframe thead th {\n",
       "        text-align: right;\n",
       "    }\n",
       "</style>\n",
       "<table border=\"1\" class=\"dataframe\">\n",
       "  <thead>\n",
       "    <tr style=\"text-align: right;\">\n",
       "      <th></th>\n",
       "      <th>Date</th>\n",
       "      <th>Open</th>\n",
       "      <th>High</th>\n",
       "      <th>Low</th>\n",
       "      <th>Close</th>\n",
       "    </tr>\n",
       "  </thead>\n",
       "  <tbody>\n",
       "    <tr>\n",
       "      <th>0</th>\n",
       "      <td>2018-02-05</td>\n",
       "      <td>262.000000</td>\n",
       "      <td>267.899994</td>\n",
       "      <td>250.029999</td>\n",
       "      <td>254.259995</td>\n",
       "    </tr>\n",
       "    <tr>\n",
       "      <th>1</th>\n",
       "      <td>2018-02-06</td>\n",
       "      <td>247.699997</td>\n",
       "      <td>266.700012</td>\n",
       "      <td>245.000000</td>\n",
       "      <td>265.720001</td>\n",
       "    </tr>\n",
       "    <tr>\n",
       "      <th>2</th>\n",
       "      <td>2018-02-07</td>\n",
       "      <td>266.579987</td>\n",
       "      <td>272.450012</td>\n",
       "      <td>264.329987</td>\n",
       "      <td>264.559998</td>\n",
       "    </tr>\n",
       "    <tr>\n",
       "      <th>3</th>\n",
       "      <td>2018-02-08</td>\n",
       "      <td>267.079987</td>\n",
       "      <td>267.619995</td>\n",
       "      <td>250.000000</td>\n",
       "      <td>250.100006</td>\n",
       "    </tr>\n",
       "    <tr>\n",
       "      <th>4</th>\n",
       "      <td>2018-02-09</td>\n",
       "      <td>253.850006</td>\n",
       "      <td>255.800003</td>\n",
       "      <td>236.110001</td>\n",
       "      <td>249.470001</td>\n",
       "    </tr>\n",
       "    <tr>\n",
       "      <th>...</th>\n",
       "      <td>...</td>\n",
       "      <td>...</td>\n",
       "      <td>...</td>\n",
       "      <td>...</td>\n",
       "      <td>...</td>\n",
       "    </tr>\n",
       "    <tr>\n",
       "      <th>1004</th>\n",
       "      <td>2022-01-31</td>\n",
       "      <td>401.970001</td>\n",
       "      <td>427.700012</td>\n",
       "      <td>398.200012</td>\n",
       "      <td>427.140015</td>\n",
       "    </tr>\n",
       "    <tr>\n",
       "      <th>1005</th>\n",
       "      <td>2022-02-01</td>\n",
       "      <td>432.959991</td>\n",
       "      <td>458.480011</td>\n",
       "      <td>425.540009</td>\n",
       "      <td>457.130005</td>\n",
       "    </tr>\n",
       "    <tr>\n",
       "      <th>1006</th>\n",
       "      <td>2022-02-02</td>\n",
       "      <td>448.250000</td>\n",
       "      <td>451.980011</td>\n",
       "      <td>426.480011</td>\n",
       "      <td>429.480011</td>\n",
       "    </tr>\n",
       "    <tr>\n",
       "      <th>1007</th>\n",
       "      <td>2022-02-03</td>\n",
       "      <td>421.440002</td>\n",
       "      <td>429.260010</td>\n",
       "      <td>404.279999</td>\n",
       "      <td>405.600006</td>\n",
       "    </tr>\n",
       "    <tr>\n",
       "      <th>1008</th>\n",
       "      <td>2022-02-04</td>\n",
       "      <td>407.309998</td>\n",
       "      <td>412.769989</td>\n",
       "      <td>396.640015</td>\n",
       "      <td>410.170013</td>\n",
       "    </tr>\n",
       "  </tbody>\n",
       "</table>\n",
       "<p>1009 rows × 5 columns</p>\n",
       "</div>"
      ],
      "text/plain": [
       "            Date        Open        High         Low       Close\n",
       "0     2018-02-05  262.000000  267.899994  250.029999  254.259995\n",
       "1     2018-02-06  247.699997  266.700012  245.000000  265.720001\n",
       "2     2018-02-07  266.579987  272.450012  264.329987  264.559998\n",
       "3     2018-02-08  267.079987  267.619995  250.000000  250.100006\n",
       "4     2018-02-09  253.850006  255.800003  236.110001  249.470001\n",
       "...          ...         ...         ...         ...         ...\n",
       "1004  2022-01-31  401.970001  427.700012  398.200012  427.140015\n",
       "1005  2022-02-01  432.959991  458.480011  425.540009  457.130005\n",
       "1006  2022-02-02  448.250000  451.980011  426.480011  429.480011\n",
       "1007  2022-02-03  421.440002  429.260010  404.279999  405.600006\n",
       "1008  2022-02-04  407.309998  412.769989  396.640015  410.170013\n",
       "\n",
       "[1009 rows x 5 columns]"
      ]
     },
     "execution_count": 19,
     "metadata": {},
     "output_type": "execute_result"
    }
   ],
   "source": [
    "# CSV 파일 경로\n",
    "csv_path = \"archive/NFLX.csv\"\n",
    "\n",
    "# CSV 파일 읽어오기\n",
    "cols = [ 'Date', 'Open', 'High', 'Low', 'Close'] \n",
    "df = pd.read_csv(csv_path, usecols=cols)\n",
    "\n",
    "# DataFrame 출력\n",
    "df\n",
    "\n"
   ]
  },
  {
   "cell_type": "code",
   "execution_count": 20,
   "metadata": {},
   "outputs": [
    {
     "data": {
      "text/plain": [
       "Date      object\n",
       "Open     float64\n",
       "High     float64\n",
       "Low      float64\n",
       "Close    float64\n",
       "dtype: object"
      ]
     },
     "execution_count": 20,
     "metadata": {},
     "output_type": "execute_result"
    }
   ],
   "source": [
    "df.dtypes\n"
   ]
  },
  {
   "cell_type": "markdown",
   "metadata": {},
   "source": [
    "## B. 데이터 전처리 - 데이터 읽어오기"
   ]
  },
  {
   "cell_type": "markdown",
   "metadata": {},
   "source": [
    "- csv 파일을 DataFrame으로 읽어와 2021년 이후의 데이터만 필터링합니다.\n",
    "* 필터링이 완료된 DataFrame의 종가 데이터를 Matplotlib을 사용하여 시각화합니다."
   ]
  },
  {
   "cell_type": "code",
   "execution_count": 21,
   "metadata": {},
   "outputs": [
    {
     "name": "stderr",
     "output_type": "stream",
     "text": [
      "C:\\Users\\SSAFY\\AppData\\Local\\Temp\\ipykernel_21008\\109875323.py:5: SettingWithCopyWarning: \n",
      "A value is trying to be set on a copy of a slice from a DataFrame.\n",
      "Try using .loc[row_indexer,col_indexer] = value instead\n",
      "\n",
      "See the caveats in the documentation: https://pandas.pydata.org/pandas-docs/stable/user_guide/indexing.html#returning-a-view-versus-a-copy\n",
      "  df[\"Date\"] = pd.to_datetime(df[\"Date\"])\n"
     ]
    },
    {
     "data": {
      "image/png": "[encoded data removed]",
      "text/plain": [
       "<Figure size 640x480 with 1 Axes>"
      ]
     },
     "metadata": {},
     "output_type": "display_data"
    }
   ],
   "source": [
    "# 데이터필터링(2021년 이후로)\n",
    "df = df[df['Date'] >= '2021-01-01']\n",
    "\n",
    "# 날짜 데이터 변환\n",
    "df[\"Date\"] = pd.to_datetime(df[\"Date\"])\n",
    "\n",
    "# 그래프 그리기 (가로, 세로 축에 표시될 데이터를 차례로 기입)\n",
    "plt.plot(df['Date'], df['Close'])\n",
    "\n",
    "\n",
    "# 그래프 제목 설정\n",
    "plt.title('NFLX Close Price')\n",
    "\n",
    "# x축 레이블 설정\n",
    "plt.xlabel('Date')\n",
    "\n",
    "# y축 레이블 설정\n",
    "plt.ylabel('Close Price')\n",
    "\n",
    "# 그래프 표시\n",
    "plt.show()"
   ]
  },
  {
   "cell_type": "markdown",
   "metadata": {},
   "source": [
    "## C. 데이터 분석 – 2021년 이후 최고, 최저 종가 출력하기"
   ]
  },
  {
   "cell_type": "markdown",
   "metadata": {},
   "source": [
    "- csv 파일을 DataFrame 으로 읽어와 2021년 이후의 데이터만 필터링합니다.\n",
    "* 종가(Close) 필드를 활용하여, 2021년 이후 가장 높은 종가와 가장 낮은 종가를 출력합니다.\n",
    "+ Pandas 의 내장 함수를 사용합니다"
   ]
  },
  {
   "cell_type": "code",
   "execution_count": 22,
   "metadata": {},
   "outputs": [
    {
     "name": "stdout",
     "output_type": "stream",
     "text": [
      "최고 종가 :  691.690002\n",
      "최저 종가 :  359.700012\n"
     ]
    }
   ],
   "source": [
    "max_price = df.max()['Close']\n",
    "min_price = df.min()['Close']\n",
    "print(\"최고 종가 : \", max_price) \n",
    "print(\"최저 종가 : \", min_price) "
   ]
  },
  {
   "cell_type": "markdown",
   "metadata": {},
   "source": [
    "## D. 데이터 분석 - 2021년 이후 월 별 평균 종가 출력하기"
   ]
  },
  {
   "cell_type": "markdown",
   "metadata": {},
   "source": [
    "- csv 파일을 DataFrame 으로 읽어와 2021년 이후의 데이터만 필터링합니다.\n",
    "* 월 별로 그룹화하여 평균 종가를 계산한 새로운 DataFrame 을 만들어 그래프로 시각화 합니다."
   ]
  },
  {
   "cell_type": "code",
   "execution_count": 23,
   "metadata": {},
   "outputs": [
    {
     "name": "stderr",
     "output_type": "stream",
     "text": [
      "C:\\Users\\SSAFY\\AppData\\Local\\Temp\\ipykernel_21008\\579634514.py:2: SettingWithCopyWarning: \n",
      "A value is trying to be set on a copy of a slice from a DataFrame.\n",
      "Try using .loc[row_indexer,col_indexer] = value instead\n",
      "\n",
      "See the caveats in the documentation: https://pandas.pydata.org/pandas-docs/stable/user_guide/indexing.html#returning-a-view-versus-a-copy\n",
      "  df[\"Month\"] = df[\"Date\"].dt.strftime(\"%Y-%m\")\n"
     ]
    },
    {
     "data": {
      "text/plain": [
       "Month\n",
       "2021-01    526.816845\n",
       "2021-02    548.959999\n",
       "2021-03    518.123482\n",
       "2021-04    533.136662\n",
       "2021-05    496.714497\n",
       "2021-06    503.324091\n",
       "2021-07    528.653330\n",
       "2021-08    532.346817\n",
       "2021-09    590.795239\n",
       "2021-10    642.202849\n",
       "2021-11    667.524286\n",
       "2021-12    608.484089\n",
       "2022-01    487.853500\n",
       "2022-02    425.595009\n",
       "Name: Close, dtype: float64"
      ]
     },
     "execution_count": 23,
     "metadata": {},
     "output_type": "execute_result"
    }
   ],
   "source": [
    "# 월별로 그룹화 /strftime 은 날짜를 문자열로 표기하는 함수\n",
    "df[\"Month\"] = df[\"Date\"].dt.strftime(\"%Y-%m\")\n",
    "\n",
    "# mean 평균을 구하는 함수 // groupby는 그룹별로 분활하여 데이터 통계를 내는 함수\n",
    "df_month_avg = df.groupby(\"Month\")[\"Close\"].mean()\n",
    "df_month_avg\n",
    "\n",
    "\n",
    "\n",
    "\n",
    "# 그래프 그리기 (가로, 세로 축에 표시될 데이터를 차례로 기입)\n",
    "plt.plot(df_month_avg)\n",
    "\n",
    "# 그래프 제목 설정\n",
    "plt.title('NFLX Average Close Price')\n",
    "\n",
    "# x축 레이블 설정 / 글자 크기 및 방향 설정\n",
    "plt.xlabel('Date')\n",
    "plt.xticks(fontsize= 7, rotation = 45)\n",
    "\n",
    "# y축 레이블 설정\n",
    "plt.ylabel('Average Close Price')\n",
    "\n",
    "# 그리드 생성\n",
    "plt.grid()\n",
    "\n",
    "# 그래프 표시\n",
    "plt.show()\n"
   ]
  },
  {
   "cell_type": "markdown",
   "metadata": {},
   "source": [
    "## E. 데이터 시각화 – 2022년 이후 최고, 최저, 종가 시각화하기"
   ]
  },
  {
   "cell_type": "markdown",
   "metadata": {},
   "source": [
    "-  csv 파일을 DataFrame 으로 읽어와 2022년 이후의 데이터만 필터링합니다.\n",
    "*  Matplotlib 를 활용하여 3가지 필드를 한 번에 분석할 수 있도록 아래와 같이 시각화 합니다"
   ]
  },
  {
   "cell_type": "code",
   "execution_count": 24,
   "metadata": {},
   "outputs": [
    {
     "data": {
      "text/html": [
       "<div>\n",
       "<style scoped>\n",
       "    .dataframe tbody tr th:only-of-type {\n",
       "        vertical-align: middle;\n",
       "    }\n",
       "\n",
       "    .dataframe tbody tr th {\n",
       "        vertical-align: top;\n",
       "    }\n",
       "\n",
       "    .dataframe thead th {\n",
       "        text-align: right;\n",
       "    }\n",
       "</style>\n",
       "<table border=\"1\" class=\"dataframe\">\n",
       "  <thead>\n",
       "    <tr style=\"text-align: right;\">\n",
       "      <th></th>\n",
       "      <th>Date</th>\n",
       "      <th>Open</th>\n",
       "      <th>High</th>\n",
       "      <th>Low</th>\n",
       "      <th>Close</th>\n",
       "      <th>Month</th>\n",
       "    </tr>\n",
       "  </thead>\n",
       "  <tbody>\n",
       "    <tr>\n",
       "      <th>985</th>\n",
       "      <td>2022-01-03</td>\n",
       "      <td>605.609985</td>\n",
       "      <td>609.989990</td>\n",
       "      <td>590.559998</td>\n",
       "      <td>597.369995</td>\n",
       "      <td>2022-01</td>\n",
       "    </tr>\n",
       "    <tr>\n",
       "      <th>986</th>\n",
       "      <td>2022-01-04</td>\n",
       "      <td>599.909973</td>\n",
       "      <td>600.409973</td>\n",
       "      <td>581.599976</td>\n",
       "      <td>591.150024</td>\n",
       "      <td>2022-01</td>\n",
       "    </tr>\n",
       "    <tr>\n",
       "      <th>987</th>\n",
       "      <td>2022-01-05</td>\n",
       "      <td>592.000000</td>\n",
       "      <td>592.840027</td>\n",
       "      <td>566.880005</td>\n",
       "      <td>567.520020</td>\n",
       "      <td>2022-01</td>\n",
       "    </tr>\n",
       "    <tr>\n",
       "      <th>988</th>\n",
       "      <td>2022-01-06</td>\n",
       "      <td>554.340027</td>\n",
       "      <td>563.359985</td>\n",
       "      <td>542.010010</td>\n",
       "      <td>553.289978</td>\n",
       "      <td>2022-01</td>\n",
       "    </tr>\n",
       "    <tr>\n",
       "      <th>989</th>\n",
       "      <td>2022-01-07</td>\n",
       "      <td>549.460022</td>\n",
       "      <td>553.429993</td>\n",
       "      <td>538.219971</td>\n",
       "      <td>541.059998</td>\n",
       "      <td>2022-01</td>\n",
       "    </tr>\n",
       "    <tr>\n",
       "      <th>990</th>\n",
       "      <td>2022-01-10</td>\n",
       "      <td>538.489990</td>\n",
       "      <td>543.690002</td>\n",
       "      <td>526.320007</td>\n",
       "      <td>539.849976</td>\n",
       "      <td>2022-01</td>\n",
       "    </tr>\n",
       "    <tr>\n",
       "      <th>991</th>\n",
       "      <td>2022-01-11</td>\n",
       "      <td>536.989990</td>\n",
       "      <td>543.909973</td>\n",
       "      <td>530.070007</td>\n",
       "      <td>540.840027</td>\n",
       "      <td>2022-01</td>\n",
       "    </tr>\n",
       "    <tr>\n",
       "      <th>992</th>\n",
       "      <td>2022-01-12</td>\n",
       "      <td>544.270020</td>\n",
       "      <td>544.270020</td>\n",
       "      <td>532.020020</td>\n",
       "      <td>537.219971</td>\n",
       "      <td>2022-01</td>\n",
       "    </tr>\n",
       "    <tr>\n",
       "      <th>993</th>\n",
       "      <td>2022-01-13</td>\n",
       "      <td>537.059998</td>\n",
       "      <td>540.789978</td>\n",
       "      <td>518.260010</td>\n",
       "      <td>519.200012</td>\n",
       "      <td>2022-01</td>\n",
       "    </tr>\n",
       "    <tr>\n",
       "      <th>994</th>\n",
       "      <td>2022-01-14</td>\n",
       "      <td>517.599976</td>\n",
       "      <td>538.369995</td>\n",
       "      <td>511.880005</td>\n",
       "      <td>525.690002</td>\n",
       "      <td>2022-01</td>\n",
       "    </tr>\n",
       "    <tr>\n",
       "      <th>995</th>\n",
       "      <td>2022-01-18</td>\n",
       "      <td>520.080017</td>\n",
       "      <td>521.750000</td>\n",
       "      <td>508.679993</td>\n",
       "      <td>510.799988</td>\n",
       "      <td>2022-01</td>\n",
       "    </tr>\n",
       "    <tr>\n",
       "      <th>996</th>\n",
       "      <td>2022-01-19</td>\n",
       "      <td>515.000000</td>\n",
       "      <td>523.210022</td>\n",
       "      <td>510.510010</td>\n",
       "      <td>515.859985</td>\n",
       "      <td>2022-01</td>\n",
       "    </tr>\n",
       "    <tr>\n",
       "      <th>997</th>\n",
       "      <td>2022-01-20</td>\n",
       "      <td>517.750000</td>\n",
       "      <td>526.640015</td>\n",
       "      <td>506.929993</td>\n",
       "      <td>508.250000</td>\n",
       "      <td>2022-01</td>\n",
       "    </tr>\n",
       "    <tr>\n",
       "      <th>998</th>\n",
       "      <td>2022-01-21</td>\n",
       "      <td>400.429993</td>\n",
       "      <td>409.149994</td>\n",
       "      <td>379.989990</td>\n",
       "      <td>397.500000</td>\n",
       "      <td>2022-01</td>\n",
       "    </tr>\n",
       "    <tr>\n",
       "      <th>999</th>\n",
       "      <td>2022-01-24</td>\n",
       "      <td>383.910004</td>\n",
       "      <td>387.260010</td>\n",
       "      <td>351.459991</td>\n",
       "      <td>387.149994</td>\n",
       "      <td>2022-01</td>\n",
       "    </tr>\n",
       "    <tr>\n",
       "      <th>1000</th>\n",
       "      <td>2022-01-25</td>\n",
       "      <td>379.140015</td>\n",
       "      <td>387.709991</td>\n",
       "      <td>365.130005</td>\n",
       "      <td>366.420013</td>\n",
       "      <td>2022-01</td>\n",
       "    </tr>\n",
       "    <tr>\n",
       "      <th>1001</th>\n",
       "      <td>2022-01-26</td>\n",
       "      <td>378.269989</td>\n",
       "      <td>382.660004</td>\n",
       "      <td>356.619995</td>\n",
       "      <td>359.700012</td>\n",
       "      <td>2022-01</td>\n",
       "    </tr>\n",
       "    <tr>\n",
       "      <th>1002</th>\n",
       "      <td>2022-01-27</td>\n",
       "      <td>382.059998</td>\n",
       "      <td>394.799988</td>\n",
       "      <td>378.100006</td>\n",
       "      <td>386.700012</td>\n",
       "      <td>2022-01</td>\n",
       "    </tr>\n",
       "    <tr>\n",
       "      <th>1003</th>\n",
       "      <td>2022-01-28</td>\n",
       "      <td>386.760010</td>\n",
       "      <td>387.000000</td>\n",
       "      <td>372.079987</td>\n",
       "      <td>384.359985</td>\n",
       "      <td>2022-01</td>\n",
       "    </tr>\n",
       "    <tr>\n",
       "      <th>1004</th>\n",
       "      <td>2022-01-31</td>\n",
       "      <td>401.970001</td>\n",
       "      <td>427.700012</td>\n",
       "      <td>398.200012</td>\n",
       "      <td>427.140015</td>\n",
       "      <td>2022-01</td>\n",
       "    </tr>\n",
       "    <tr>\n",
       "      <th>1005</th>\n",
       "      <td>2022-02-01</td>\n",
       "      <td>432.959991</td>\n",
       "      <td>458.480011</td>\n",
       "      <td>425.540009</td>\n",
       "      <td>457.130005</td>\n",
       "      <td>2022-02</td>\n",
       "    </tr>\n",
       "    <tr>\n",
       "      <th>1006</th>\n",
       "      <td>2022-02-02</td>\n",
       "      <td>448.250000</td>\n",
       "      <td>451.980011</td>\n",
       "      <td>426.480011</td>\n",
       "      <td>429.480011</td>\n",
       "      <td>2022-02</td>\n",
       "    </tr>\n",
       "    <tr>\n",
       "      <th>1007</th>\n",
       "      <td>2022-02-03</td>\n",
       "      <td>421.440002</td>\n",
       "      <td>429.260010</td>\n",
       "      <td>404.279999</td>\n",
       "      <td>405.600006</td>\n",
       "      <td>2022-02</td>\n",
       "    </tr>\n",
       "    <tr>\n",
       "      <th>1008</th>\n",
       "      <td>2022-02-04</td>\n",
       "      <td>407.309998</td>\n",
       "      <td>412.769989</td>\n",
       "      <td>396.640015</td>\n",
       "      <td>410.170013</td>\n",
       "      <td>2022-02</td>\n",
       "    </tr>\n",
       "  </tbody>\n",
       "</table>\n",
       "</div>"
      ],
      "text/plain": [
       "           Date        Open        High         Low       Close    Month\n",
       "985  2022-01-03  605.609985  609.989990  590.559998  597.369995  2022-01\n",
       "986  2022-01-04  599.909973  600.409973  581.599976  591.150024  2022-01\n",
       "987  2022-01-05  592.000000  592.840027  566.880005  567.520020  2022-01\n",
       "988  2022-01-06  554.340027  563.359985  542.010010  553.289978  2022-01\n",
       "989  2022-01-07  549.460022  553.429993  538.219971  541.059998  2022-01\n",
       "990  2022-01-10  538.489990  543.690002  526.320007  539.849976  2022-01\n",
       "991  2022-01-11  536.989990  543.909973  530.070007  540.840027  2022-01\n",
       "992  2022-01-12  544.270020  544.270020  532.020020  537.219971  2022-01\n",
       "993  2022-01-13  537.059998  540.789978  518.260010  519.200012  2022-01\n",
       "994  2022-01-14  517.599976  538.369995  511.880005  525.690002  2022-01\n",
       "995  2022-01-18  520.080017  521.750000  508.679993  510.799988  2022-01\n",
       "996  2022-01-19  515.000000  523.210022  510.510010  515.859985  2022-01\n",
       "997  2022-01-20  517.750000  526.640015  506.929993  508.250000  2022-01\n",
       "998  2022-01-21  400.429993  409.149994  379.989990  397.500000  2022-01\n",
       "999  2022-01-24  383.910004  387.260010  351.459991  387.149994  2022-01\n",
       "1000 2022-01-25  379.140015  387.709991  365.130005  366.420013  2022-01\n",
       "1001 2022-01-26  378.269989  382.660004  356.619995  359.700012  2022-01\n",
       "1002 2022-01-27  382.059998  394.799988  378.100006  386.700012  2022-01\n",
       "1003 2022-01-28  386.760010  387.000000  372.079987  384.359985  2022-01\n",
       "1004 2022-01-31  401.970001  427.700012  398.200012  427.140015  2022-01\n",
       "1005 2022-02-01  432.959991  458.480011  425.540009  457.130005  2022-02\n",
       "1006 2022-02-02  448.250000  451.980011  426.480011  429.480011  2022-02\n",
       "1007 2022-02-03  421.440002  429.260010  404.279999  405.600006  2022-02\n",
       "1008 2022-02-04  407.309998  412.769989  396.640015  410.170013  2022-02"
      ]
     },
     "execution_count": 24,
     "metadata": {},
     "output_type": "execute_result"
    }
   ],
   "source": [
    "# 2022년 이후 데이터 필터링\n",
    "df_after_2022 = df[df[\"Date\"] >= \"2022-01-01\"]\n",
    "\n",
    "# 출력하기\n",
    "df_after_2022"
   ]
  },
  {
   "cell_type": "code",
   "execution_count": 25,
   "metadata": {},
   "outputs": [
    {
     "data": {
      "image/png": "[encoded data removed]",
      "text/plain": [
       "<Figure size 640x480 with 1 Axes>"
      ]
     },
     "metadata": {},
     "output_type": "display_data"
    }
   ],
   "source": [
    "# 그래프 그리기\n",
    "plt.plot(df_after_2022['Date'], df_after_2022['Close'], label='Close')\n",
    "plt.plot(df_after_2022['Date'], df_after_2022['Low'], label='Low')\n",
    "plt.plot(df_after_2022['Date'], df_after_2022['High'], label='High')\n",
    "\n",
    "# 그래프 제목 설정\n",
    "plt.title('High, Low, and Close Prices since January 2022')\n",
    "\n",
    "# x축 레이블 설정\n",
    "plt.xlabel('Date')\n",
    "\n",
    "# y축 레이블 설정\n",
    "plt.ylabel('Price')\n",
    "\n",
    "# x축 레이블을 45도 회전\n",
    "plt.xticks(fontsize= 7, rotation=45)\n",
    "\n",
    "# 범례 표시\n",
    "plt.legend()\n",
    "\n",
    "# 그리드 생성\n",
    "plt.grid()\n",
    "\n",
    "# 그래프 표시\n",
    "plt.show()"
   ]
  },
  {
   "cell_type": "markdown",
   "metadata": {},
   "source": []
  }
 ],
 "metadata": {
  "kernelspec": {
   "display_name": "Python 3",
   "language": "python",
   "name": "python3"
  },
  "language_info": {
   "codemirror_mode": {
    "name": "ipython",
    "version": 3
   },
   "file_extension": ".py",
   "mimetype": "text/x-python",
   "name": "python",
   "nbconvert_exporter": "python",
   "pygments_lexer": "ipython3",
   "version": "3.9.13"
  },
  "orig_nbformat": 4
 },
 "nbformat": 4,
 "nbformat_minor": 2
}
